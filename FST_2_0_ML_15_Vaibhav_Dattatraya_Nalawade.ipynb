{
 "cells": [
  {
   "cell_type": "markdown",
   "id": "dfb95cb2",
   "metadata": {},
   "source": [
    "# Q 1. Write Python Program For Sum n Numbers Using List"
   ]
  },
  {
   "cell_type": "code",
   "execution_count": 2,
   "id": "1e3ebc1a",
   "metadata": {},
   "outputs": [
    {
     "name": "stdout",
     "output_type": "stream",
     "text": [
      "Enter The List Size: 2\n",
      "Enter List Item: 1\n",
      "Enter List Item: 1\n",
      "The Sum Of [1, 1] is 2\n"
     ]
    }
   ],
   "source": [
    "n = int(input(\"Enter The List Size: \"))\n",
    "list = []\n",
    "\n",
    "for i in range(n):\n",
    "    num = int(input(\"Enter List Item: \"))\n",
    "    list.append(num)\n",
    "\n",
    "sum = 0\n",
    "for num in list:\n",
    "    sum = sum + num\n",
    "\n",
    "print(\"The Sum Of\", list, \"is\", sum)"
   ]
  },
  {
   "cell_type": "markdown",
   "id": "5ffd769a",
   "metadata": {},
   "source": [
    "## Q 2. Use a dictionary comprehension to count the length of each word in a sentence.   [2M]"
   ]
  },
  {
   "cell_type": "code",
   "execution_count": 19,
   "id": "dc0d371a",
   "metadata": {},
   "outputs": [
    {
     "name": "stdout",
     "output_type": "stream",
     "text": [
      "The Lenght Of Words Is {'Today': 5, 'Sky': 3, 'Is': 2, 'Looking': 7, 'More': 4, 'Young': 5, '&': 1, 'Youthful': 8}\n"
     ]
    }
   ],
   "source": [
    "my_sentence = \"Today Sky Is Looking More Young & Youthful\"\n",
    "\n",
    "word_length = {i: len(i) for i in my_sentence.split()}\n",
    "\n",
    "print(\"The Lenght Of Words Is\", word_length)\n"
   ]
  },
  {
   "cell_type": "code",
   "execution_count": 4,
   "id": "848f6259",
   "metadata": {},
   "outputs": [],
   "source": [
    "# Q 3. Create Application"
   ]
  },
  {
   "cell_type": "code",
   "execution_count": 5,
   "id": "1b2914e6",
   "metadata": {},
   "outputs": [
    {
     "name": "stdout",
     "output_type": "stream",
     "text": [
      "Welcome To State Bank Of India\n",
      "Enter Your 4 Digit Pin Number: 7654\n",
      "\n",
      "Select Option\n",
      "1. Withdraw\n",
      "2. Balance Enquiry\n",
      "3. Fast Cash\n",
      "4. Cancel Transaction\n",
      "\n",
      "Please Enter The Number To Transact: 1\n",
      "Enter Amount To Withdraw: 2\n",
      "Please Take Your Cash: 2.0\n",
      "Your Balance Is:  7798.0\n",
      "\n",
      "\n",
      "\n",
      "Select Option\n",
      "1. Withdraw\n",
      "2. Balance Enquiry\n",
      "3. Fast Cash\n",
      "4. Cancel Transaction\n",
      "\n",
      "Please Enter The Number To Transact: 2\n",
      "Your Balance Is:  7798.0\n",
      "\n",
      "\n",
      "\n",
      "Select Option\n",
      "1. Withdraw\n",
      "2. Balance Enquiry\n",
      "3. Fast Cash\n",
      "4. Cancel Transaction\n",
      "\n",
      "Please Enter The Number To Transact: 3\n",
      "FAST CASH 2000\n",
      "Your Balance Is:  5798.0\n",
      "\n",
      "\n",
      "\n",
      "Select Option\n",
      "1. Withdraw\n",
      "2. Balance Enquiry\n",
      "3. Fast Cash\n",
      "4. Cancel Transaction\n",
      "\n",
      "Please Enter The Number To Transact: 4\n",
      "Please Take Your Cash: 2000\n",
      "\n",
      "\n",
      "\n",
      "Select Option\n",
      "1. Withdraw\n",
      "2. Balance Enquiry\n",
      "3. Fast Cash\n",
      "4. Cancel Transaction\n",
      "\n",
      "Please Enter The Number To Transact: 4\n"
     ]
    }
   ],
   "source": [
    "current_balance = 7800\n",
    "\n",
    "def pin(pin_input):\n",
    "    \n",
    "    if pin_input == 7654:\n",
    "        menu()\n",
    "            \n",
    "    else:\n",
    "        print(\"Invalid Pin Number!\")\n",
    "        pin(int(input(\"Enter Correct Pin Number: \")))\n",
    "        pin()\n",
    "        \n",
    "    \n",
    "def menu():\n",
    "    print(\"\\nSelect Option\")\n",
    "    print(\"1. Withdraw\")\n",
    "    print(\"2. Balance Enquiry\")\n",
    "    print(\"3. Fast Cash\")\n",
    "    print(\"4. Cancel Transaction\")\n",
    "    transaction = input(\"\\nPlease Enter The Number To Transact: \")\n",
    "\n",
    "    if transaction == \"1\":\n",
    "        withdraw()\n",
    "    elif transaction == \"2\":\n",
    "        check_balance()\n",
    "    elif transaction == \"3\":\n",
    "        fast_cash()\n",
    "    elif transaction == \"4\":\n",
    "        exit()\n",
    "        \n",
    "def withdraw():\n",
    "    global current_balance \n",
    "\n",
    "    withdraw_amount = float(input(\"Enter Amount To Withdraw: \"))\n",
    "    \n",
    "    if withdraw_amount <= current_balance:\n",
    "        print(\"Please Take Your Cash:\", withdraw_amount)\n",
    "        \n",
    "        current_balance = current_balance - withdraw_amount\n",
    "        check_balance()\n",
    "        print(\"\\n\")\n",
    "        menu()\n",
    "        \n",
    "    else:\n",
    "        print(\"Insuffienct Balance,  Available Balance Is: \", current_balance)\n",
    "        print(\"\\n\")\n",
    "        menu()\n",
    "\n",
    "def check_balance():\n",
    "    print(\"Your Balance Is: \", current_balance)\n",
    "    print(\"\\n\")\n",
    "    menu()\n",
    "    \n",
    "def fast_cash():\n",
    "    global current_balance \n",
    "\n",
    "    print(\"FAST CASH 2000\")\n",
    "    withdraw_amount = 2000\n",
    "    if withdraw_amount <= current_balance:\n",
    "        current_balance = current_balance - withdraw_amount\n",
    "        check_balance()\n",
    "        print(\"Please Take Your Cash:\", withdraw_amount)\n",
    "    else:\n",
    "        print(\"Insuffient Balance, Available Balance Is: \", current_balance)\n",
    "        print(\"\\n\")\n",
    "def cancel():\n",
    "    exit()\n",
    "\n",
    "print(\"Welcome To State Bank Of India\")\n",
    "pin(int(input(\"Enter Your 4 Digit Pin Number: \")))\n"
   ]
  },
  {
   "cell_type": "code",
   "execution_count": 22,
   "id": "52d342f7",
   "metadata": {},
   "outputs": [],
   "source": [
    "# 4. Tests whether a data sample has a Gaussian distribution.\n",
    "# a)\tGenerate the data, form H0 and H1 and write python code to test the Normality        \n"
   ]
  },
  {
   "cell_type": "code",
   "execution_count": 20,
   "id": "8b5d1300",
   "metadata": {},
   "outputs": [
    {
     "name": "stdout",
     "output_type": "stream",
     "text": [
      "Sample Looks Gaussian (Fail To Reject H0)\n"
     ]
    }
   ],
   "source": [
    "from scipy.stats import shapiro\n",
    "\n",
    "data = [0.1, 0.2, 0.3, 0.4, 0.5]\n",
    "\n",
    "stat, p = shapiro(data)\n",
    "\n",
    "alpha = 0.05\n",
    "if p > alpha:\n",
    "    print('Sample Looks Gaussian (Fail To Reject H0)')\n",
    "else:\n",
    "    print('Sample Does Not Look Gaussian (Reject H0)')\n"
   ]
  },
  {
   "cell_type": "markdown",
   "id": "08df9ec6",
   "metadata": {},
   "source": [
    "# Q 5. The objective of this project is to explore a dataset containing customer information for treadmill products for a retail store called Cardio Good Fitness.\n",
    "•\tProduct - The model no. of the treadmill\n",
    "•\tAge - Age of the customer in no of years\n",
    "•\tGender - Gender of the customer\n",
    "•\tEducation - Education of the customer in no. of years\n",
    "•\tMarital Status - Marital status of the customer\n",
    "•\tUsage - Avg. # times the customer wants to use the treadmill every week\n",
    "•\tFitness - Self rated fitness score of the customer (5 - very fit, 1 - very unfit)\n",
    "•\tIncome - Income of the customer\n",
    "•\tMiles- Miles that a customer expects to run\n"
   ]
  },
  {
   "cell_type": "code",
   "execution_count": 1,
   "id": "65408ab7",
   "metadata": {},
   "outputs": [],
   "source": [
    "import pandas as pd\n",
    "import numpy as np\n",
    "import matplotlib.pyplot as plt\n",
    "import seaborn as sns"
   ]
  },
  {
   "cell_type": "code",
   "execution_count": 2,
   "id": "5ea66418",
   "metadata": {},
   "outputs": [],
   "source": [
    "df = pd.read_csv('CardioGoodFitness.csv')"
   ]
  },
  {
   "cell_type": "code",
   "execution_count": 3,
   "id": "faff1d12",
   "metadata": {},
   "outputs": [
    {
     "data": {
      "text/html": [
       "<div>\n",
       "<style scoped>\n",
       "    .dataframe tbody tr th:only-of-type {\n",
       "        vertical-align: middle;\n",
       "    }\n",
       "\n",
       "    .dataframe tbody tr th {\n",
       "        vertical-align: top;\n",
       "    }\n",
       "\n",
       "    .dataframe thead th {\n",
       "        text-align: right;\n",
       "    }\n",
       "</style>\n",
       "<table border=\"1\" class=\"dataframe\">\n",
       "  <thead>\n",
       "    <tr style=\"text-align: right;\">\n",
       "      <th></th>\n",
       "      <th>Product</th>\n",
       "      <th>Age</th>\n",
       "      <th>Gender</th>\n",
       "      <th>Education</th>\n",
       "      <th>MaritalStatus</th>\n",
       "      <th>Usage</th>\n",
       "      <th>Fitness</th>\n",
       "      <th>Income</th>\n",
       "      <th>Miles</th>\n",
       "    </tr>\n",
       "  </thead>\n",
       "  <tbody>\n",
       "    <tr>\n",
       "      <th>0</th>\n",
       "      <td>TM195</td>\n",
       "      <td>18</td>\n",
       "      <td>Male</td>\n",
       "      <td>14</td>\n",
       "      <td>Single</td>\n",
       "      <td>3</td>\n",
       "      <td>4</td>\n",
       "      <td>29562</td>\n",
       "      <td>112</td>\n",
       "    </tr>\n",
       "    <tr>\n",
       "      <th>1</th>\n",
       "      <td>TM195</td>\n",
       "      <td>19</td>\n",
       "      <td>Male</td>\n",
       "      <td>15</td>\n",
       "      <td>Single</td>\n",
       "      <td>2</td>\n",
       "      <td>3</td>\n",
       "      <td>31836</td>\n",
       "      <td>75</td>\n",
       "    </tr>\n",
       "    <tr>\n",
       "      <th>2</th>\n",
       "      <td>TM195</td>\n",
       "      <td>19</td>\n",
       "      <td>Female</td>\n",
       "      <td>14</td>\n",
       "      <td>Partnered</td>\n",
       "      <td>4</td>\n",
       "      <td>3</td>\n",
       "      <td>30699</td>\n",
       "      <td>66</td>\n",
       "    </tr>\n",
       "    <tr>\n",
       "      <th>3</th>\n",
       "      <td>TM195</td>\n",
       "      <td>19</td>\n",
       "      <td>Male</td>\n",
       "      <td>12</td>\n",
       "      <td>Single</td>\n",
       "      <td>3</td>\n",
       "      <td>3</td>\n",
       "      <td>32973</td>\n",
       "      <td>85</td>\n",
       "    </tr>\n",
       "    <tr>\n",
       "      <th>4</th>\n",
       "      <td>TM195</td>\n",
       "      <td>20</td>\n",
       "      <td>Male</td>\n",
       "      <td>13</td>\n",
       "      <td>Partnered</td>\n",
       "      <td>4</td>\n",
       "      <td>2</td>\n",
       "      <td>35247</td>\n",
       "      <td>47</td>\n",
       "    </tr>\n",
       "  </tbody>\n",
       "</table>\n",
       "</div>"
      ],
      "text/plain": [
       "  Product  Age  Gender  Education MaritalStatus  Usage  Fitness  Income  Miles\n",
       "0   TM195   18    Male         14        Single      3        4   29562    112\n",
       "1   TM195   19    Male         15        Single      2        3   31836     75\n",
       "2   TM195   19  Female         14     Partnered      4        3   30699     66\n",
       "3   TM195   19    Male         12        Single      3        3   32973     85\n",
       "4   TM195   20    Male         13     Partnered      4        2   35247     47"
      ]
     },
     "execution_count": 3,
     "metadata": {},
     "output_type": "execute_result"
    }
   ],
   "source": [
    "df.head()"
   ]
  },
  {
   "cell_type": "code",
   "execution_count": 4,
   "id": "2938b4ee",
   "metadata": {},
   "outputs": [
    {
     "data": {
      "text/plain": [
       "(180, 9)"
      ]
     },
     "execution_count": 4,
     "metadata": {},
     "output_type": "execute_result"
    }
   ],
   "source": [
    "df.shape"
   ]
  },
  {
   "cell_type": "code",
   "execution_count": 5,
   "id": "685c2065",
   "metadata": {},
   "outputs": [
    {
     "data": {
      "text/html": [
       "<div>\n",
       "<style scoped>\n",
       "    .dataframe tbody tr th:only-of-type {\n",
       "        vertical-align: middle;\n",
       "    }\n",
       "\n",
       "    .dataframe tbody tr th {\n",
       "        vertical-align: top;\n",
       "    }\n",
       "\n",
       "    .dataframe thead th {\n",
       "        text-align: right;\n",
       "    }\n",
       "</style>\n",
       "<table border=\"1\" class=\"dataframe\">\n",
       "  <thead>\n",
       "    <tr style=\"text-align: right;\">\n",
       "      <th></th>\n",
       "      <th>Age</th>\n",
       "      <th>Education</th>\n",
       "      <th>Usage</th>\n",
       "      <th>Fitness</th>\n",
       "      <th>Income</th>\n",
       "      <th>Miles</th>\n",
       "    </tr>\n",
       "  </thead>\n",
       "  <tbody>\n",
       "    <tr>\n",
       "      <th>count</th>\n",
       "      <td>180.000000</td>\n",
       "      <td>180.000000</td>\n",
       "      <td>180.000000</td>\n",
       "      <td>180.000000</td>\n",
       "      <td>180.000000</td>\n",
       "      <td>180.000000</td>\n",
       "    </tr>\n",
       "    <tr>\n",
       "      <th>mean</th>\n",
       "      <td>28.788889</td>\n",
       "      <td>15.572222</td>\n",
       "      <td>3.455556</td>\n",
       "      <td>3.311111</td>\n",
       "      <td>53719.577778</td>\n",
       "      <td>103.194444</td>\n",
       "    </tr>\n",
       "    <tr>\n",
       "      <th>std</th>\n",
       "      <td>6.943498</td>\n",
       "      <td>1.617055</td>\n",
       "      <td>1.084797</td>\n",
       "      <td>0.958869</td>\n",
       "      <td>16506.684226</td>\n",
       "      <td>51.863605</td>\n",
       "    </tr>\n",
       "    <tr>\n",
       "      <th>min</th>\n",
       "      <td>18.000000</td>\n",
       "      <td>12.000000</td>\n",
       "      <td>2.000000</td>\n",
       "      <td>1.000000</td>\n",
       "      <td>29562.000000</td>\n",
       "      <td>21.000000</td>\n",
       "    </tr>\n",
       "    <tr>\n",
       "      <th>25%</th>\n",
       "      <td>24.000000</td>\n",
       "      <td>14.000000</td>\n",
       "      <td>3.000000</td>\n",
       "      <td>3.000000</td>\n",
       "      <td>44058.750000</td>\n",
       "      <td>66.000000</td>\n",
       "    </tr>\n",
       "    <tr>\n",
       "      <th>50%</th>\n",
       "      <td>26.000000</td>\n",
       "      <td>16.000000</td>\n",
       "      <td>3.000000</td>\n",
       "      <td>3.000000</td>\n",
       "      <td>50596.500000</td>\n",
       "      <td>94.000000</td>\n",
       "    </tr>\n",
       "    <tr>\n",
       "      <th>75%</th>\n",
       "      <td>33.000000</td>\n",
       "      <td>16.000000</td>\n",
       "      <td>4.000000</td>\n",
       "      <td>4.000000</td>\n",
       "      <td>58668.000000</td>\n",
       "      <td>114.750000</td>\n",
       "    </tr>\n",
       "    <tr>\n",
       "      <th>max</th>\n",
       "      <td>50.000000</td>\n",
       "      <td>21.000000</td>\n",
       "      <td>7.000000</td>\n",
       "      <td>5.000000</td>\n",
       "      <td>104581.000000</td>\n",
       "      <td>360.000000</td>\n",
       "    </tr>\n",
       "  </tbody>\n",
       "</table>\n",
       "</div>"
      ],
      "text/plain": [
       "              Age   Education       Usage     Fitness         Income  \\\n",
       "count  180.000000  180.000000  180.000000  180.000000     180.000000   \n",
       "mean    28.788889   15.572222    3.455556    3.311111   53719.577778   \n",
       "std      6.943498    1.617055    1.084797    0.958869   16506.684226   \n",
       "min     18.000000   12.000000    2.000000    1.000000   29562.000000   \n",
       "25%     24.000000   14.000000    3.000000    3.000000   44058.750000   \n",
       "50%     26.000000   16.000000    3.000000    3.000000   50596.500000   \n",
       "75%     33.000000   16.000000    4.000000    4.000000   58668.000000   \n",
       "max     50.000000   21.000000    7.000000    5.000000  104581.000000   \n",
       "\n",
       "            Miles  \n",
       "count  180.000000  \n",
       "mean   103.194444  \n",
       "std     51.863605  \n",
       "min     21.000000  \n",
       "25%     66.000000  \n",
       "50%     94.000000  \n",
       "75%    114.750000  \n",
       "max    360.000000  "
      ]
     },
     "execution_count": 5,
     "metadata": {},
     "output_type": "execute_result"
    }
   ],
   "source": [
    "df.describe()"
   ]
  },
  {
   "cell_type": "code",
   "execution_count": 6,
   "id": "b7a7e653",
   "metadata": {},
   "outputs": [
    {
     "data": {
      "text/plain": [
       "Product          object\n",
       "Age               int64\n",
       "Gender           object\n",
       "Education         int64\n",
       "MaritalStatus    object\n",
       "Usage             int64\n",
       "Fitness           int64\n",
       "Income            int64\n",
       "Miles             int64\n",
       "dtype: object"
      ]
     },
     "execution_count": 6,
     "metadata": {},
     "output_type": "execute_result"
    }
   ],
   "source": [
    "df.dtypes"
   ]
  },
  {
   "cell_type": "code",
   "execution_count": 7,
   "id": "641217e3",
   "metadata": {},
   "outputs": [
    {
     "data": {
      "text/plain": [
       "Product          0\n",
       "Age              0\n",
       "Gender           0\n",
       "Education        0\n",
       "MaritalStatus    0\n",
       "Usage            0\n",
       "Fitness          0\n",
       "Income           0\n",
       "Miles            0\n",
       "dtype: int64"
      ]
     },
     "execution_count": 7,
     "metadata": {},
     "output_type": "execute_result"
    }
   ],
   "source": [
    "df.isnull().sum()"
   ]
  },
  {
   "cell_type": "code",
   "execution_count": 8,
   "id": "e01da27e",
   "metadata": {},
   "outputs": [
    {
     "data": {
      "text/plain": [
       "array(['TM195', 'TM498', 'TM798'], dtype=object)"
      ]
     },
     "execution_count": 8,
     "metadata": {},
     "output_type": "execute_result"
    }
   ],
   "source": [
    "df['Product'].unique()"
   ]
  },
  {
   "cell_type": "code",
   "execution_count": 9,
   "id": "387da032",
   "metadata": {},
   "outputs": [
    {
     "data": {
      "image/png": "[encoded data removed]",
      "text/plain": [
       "<Figure size 640x480 with 1 Axes>"
      ]
     },
     "metadata": {},
     "output_type": "display_data"
    }
   ],
   "source": [
    "sns.scatterplot(x='Age', y='Income', data=df)\n",
    "plt.show()"
   ]
  },
  {
   "cell_type": "code",
   "execution_count": 10,
   "id": "cb58507d",
   "metadata": {},
   "outputs": [
    {
     "data": {
      "image/png": "[encoded data removed]",
      "text/plain": [
       "<Figure size 640x480 with 1 Axes>"
      ]
     },
     "metadata": {},
     "output_type": "display_data"
    }
   ],
   "source": [
    "sns.scatterplot(x='Age', y='Fitness', data=df)\n",
    "plt.show()"
   ]
  },
  {
   "cell_type": "code",
   "execution_count": 9,
   "id": "4f95fed4",
   "metadata": {},
   "outputs": [
    {
     "data": {
      "text/html": [
       "<div>\n",
       "<style scoped>\n",
       "    .dataframe tbody tr th:only-of-type {\n",
       "        vertical-align: middle;\n",
       "    }\n",
       "\n",
       "    .dataframe tbody tr th {\n",
       "        vertical-align: top;\n",
       "    }\n",
       "\n",
       "    .dataframe thead th {\n",
       "        text-align: right;\n",
       "    }\n",
       "</style>\n",
       "<table border=\"1\" class=\"dataframe\">\n",
       "  <thead>\n",
       "    <tr style=\"text-align: right;\">\n",
       "      <th></th>\n",
       "      <th>Age</th>\n",
       "      <th>Education</th>\n",
       "      <th>Usage</th>\n",
       "      <th>Fitness</th>\n",
       "      <th>Income</th>\n",
       "      <th>Miles</th>\n",
       "    </tr>\n",
       "  </thead>\n",
       "  <tbody>\n",
       "    <tr>\n",
       "      <th>count</th>\n",
       "      <td>180.000000</td>\n",
       "      <td>180.000000</td>\n",
       "      <td>180.000000</td>\n",
       "      <td>180.000000</td>\n",
       "      <td>180.000000</td>\n",
       "      <td>180.000000</td>\n",
       "    </tr>\n",
       "    <tr>\n",
       "      <th>mean</th>\n",
       "      <td>28.788889</td>\n",
       "      <td>15.572222</td>\n",
       "      <td>3.455556</td>\n",
       "      <td>3.311111</td>\n",
       "      <td>53719.577778</td>\n",
       "      <td>103.194444</td>\n",
       "    </tr>\n",
       "    <tr>\n",
       "      <th>std</th>\n",
       "      <td>6.943498</td>\n",
       "      <td>1.617055</td>\n",
       "      <td>1.084797</td>\n",
       "      <td>0.958869</td>\n",
       "      <td>16506.684226</td>\n",
       "      <td>51.863605</td>\n",
       "    </tr>\n",
       "    <tr>\n",
       "      <th>min</th>\n",
       "      <td>18.000000</td>\n",
       "      <td>12.000000</td>\n",
       "      <td>2.000000</td>\n",
       "      <td>1.000000</td>\n",
       "      <td>29562.000000</td>\n",
       "      <td>21.000000</td>\n",
       "    </tr>\n",
       "    <tr>\n",
       "      <th>25%</th>\n",
       "      <td>24.000000</td>\n",
       "      <td>14.000000</td>\n",
       "      <td>3.000000</td>\n",
       "      <td>3.000000</td>\n",
       "      <td>44058.750000</td>\n",
       "      <td>66.000000</td>\n",
       "    </tr>\n",
       "    <tr>\n",
       "      <th>50%</th>\n",
       "      <td>26.000000</td>\n",
       "      <td>16.000000</td>\n",
       "      <td>3.000000</td>\n",
       "      <td>3.000000</td>\n",
       "      <td>50596.500000</td>\n",
       "      <td>94.000000</td>\n",
       "    </tr>\n",
       "    <tr>\n",
       "      <th>75%</th>\n",
       "      <td>33.000000</td>\n",
       "      <td>16.000000</td>\n",
       "      <td>4.000000</td>\n",
       "      <td>4.000000</td>\n",
       "      <td>58668.000000</td>\n",
       "      <td>114.750000</td>\n",
       "    </tr>\n",
       "    <tr>\n",
       "      <th>max</th>\n",
       "      <td>50.000000</td>\n",
       "      <td>21.000000</td>\n",
       "      <td>7.000000</td>\n",
       "      <td>5.000000</td>\n",
       "      <td>104581.000000</td>\n",
       "      <td>360.000000</td>\n",
       "    </tr>\n",
       "  </tbody>\n",
       "</table>\n",
       "</div>"
      ],
      "text/plain": [
       "              Age   Education       Usage     Fitness         Income  \\\n",
       "count  180.000000  180.000000  180.000000  180.000000     180.000000   \n",
       "mean    28.788889   15.572222    3.455556    3.311111   53719.577778   \n",
       "std      6.943498    1.617055    1.084797    0.958869   16506.684226   \n",
       "min     18.000000   12.000000    2.000000    1.000000   29562.000000   \n",
       "25%     24.000000   14.000000    3.000000    3.000000   44058.750000   \n",
       "50%     26.000000   16.000000    3.000000    3.000000   50596.500000   \n",
       "75%     33.000000   16.000000    4.000000    4.000000   58668.000000   \n",
       "max     50.000000   21.000000    7.000000    5.000000  104581.000000   \n",
       "\n",
       "            Miles  \n",
       "count  180.000000  \n",
       "mean   103.194444  \n",
       "std     51.863605  \n",
       "min     21.000000  \n",
       "25%     66.000000  \n",
       "50%     94.000000  \n",
       "75%    114.750000  \n",
       "max    360.000000  "
      ]
     },
     "execution_count": 9,
     "metadata": {},
     "output_type": "execute_result"
    }
   ],
   "source": [
    "# a.\tPerform descriptive statistics\n",
    "\n",
    "df.describe()"
   ]
  },
  {
   "cell_type": "code",
   "execution_count": 12,
   "id": "735ef76d",
   "metadata": {},
   "outputs": [
    {
     "name": "stdout",
     "output_type": "stream",
     "text": [
      "Male Fitness Is Better With Mean:  3.519230769230769\n"
     ]
    },
    {
     "data": {
      "image/png": "[encoded data removed]",
      "text/plain": [
       "<Figure size 640x480 with 1 Axes>"
      ]
     },
     "metadata": {},
     "output_type": "display_data"
    }
   ],
   "source": [
    "# b.\tWhich gender has better fitness levels?\n",
    "\n",
    "gender_fitness = df.groupby('Gender')['Fitness'].mean()\n",
    "\n",
    "\n",
    "if gender_fitness['Male'] > gender_fitness['Female']:\n",
    "    print(\"Male Fitness Is Better With Mean: \", gender_fitness['Male'])\n",
    "else:\n",
    "    print(\"Female Fitness Is Better With Mean: \", gender_fitness['Female'])\n",
    "gender_fitness\n",
    "\n",
    "sns.barplot(x = gender_fitness.index, y = gender_fitness.values)\n",
    "plt.xlabel(\"Gender\")\n",
    "plt.ylabel(\"Mean Fitness\")\n",
    "plt.show()"
   ]
  },
  {
   "cell_type": "code",
   "execution_count": 13,
   "id": "72bf005e",
   "metadata": {},
   "outputs": [
    {
     "name": "stdout",
     "output_type": "stream",
     "text": [
      "Popular Product Is:  TM195\n"
     ]
    }
   ],
   "source": [
    "# c.\tWhich is the most popular product among all?\n",
    "\n",
    "popular_product = df['Product'].mode()[0]\n",
    "print(\"Popular Product Is: \", popular_product)\n"
   ]
  },
  {
   "cell_type": "code",
   "execution_count": 15,
   "id": "a6333d86",
   "metadata": {},
   "outputs": [
    {
     "name": "stdout",
     "output_type": "stream",
     "text": [
      "Single People Are More Fit:  3.3698630136986303\n"
     ]
    },
    {
     "data": {
      "image/png": "[encoded data removed]",
      "text/plain": [
       "<Figure size 640x480 with 1 Axes>"
      ]
     },
     "metadata": {},
     "output_type": "display_data"
    }
   ],
   "source": [
    "# d.\tWho is more fit? Married or singles\n",
    "\n",
    "marital_status_fitness = df.groupby('MaritalStatus')['Fitness'].mean()\n",
    "\n",
    "if marital_status_fitness['Single'] > marital_status_fitness['Partnered']:\n",
    "    print(\"Single People Are More Fit: \", marital_status_fitness['Single'])\n",
    "else:\n",
    "    print(\"Partnered People Are More Fit: \", marital_status_fitness['Single'])\n",
    "\n",
    "marital_status_fitness\n",
    "\n",
    "sns.barplot(x = marital_status_fitness.index, y = marital_status_fitness.values)\n",
    "plt.xlabel(\"Matrial Status\")\n",
    "plt.ylabel(\"Mean Fitness\")\n",
    "plt.show()\n"
   ]
  },
  {
   "cell_type": "code",
   "execution_count": 18,
   "id": "0fbdb733",
   "metadata": {},
   "outputs": [
    {
     "name": "stdout",
     "output_type": "stream",
     "text": [
      "The Favoriate Product Of Below 40 Age Is:  TM195\n"
     ]
    }
   ],
   "source": [
    "# e.\tWhich is the most favourite product of the customers below the age of 40?\n",
    "\n",
    "fav_product_below_40 = df[df['Age'] < 40]['Product'].mode()[0]\n",
    "print(\"The Favoriate Product Of Below 40 Age Is: \", fav_product_below_40)"
   ]
  },
  {
   "cell_type": "code",
   "execution_count": 16,
   "id": "69923819",
   "metadata": {},
   "outputs": [],
   "source": [
    "# Q 6.  Python Program to Make a Simple Calculator\n",
    "\n"
   ]
  },
  {
   "cell_type": "code",
   "execution_count": null,
   "id": "a6055a20",
   "metadata": {},
   "outputs": [
    {
     "name": "stdout",
     "output_type": "stream",
     "text": [
      "Please Select An Operation -\n",
      "1. Add\n",
      "2. Subtract\n",
      "3. Multiply\n",
      "4. Divide\n",
      "\n"
     ]
    }
   ],
   "source": [
    "def add(num1, num2):\n",
    "    return num1 + num2\n",
    "\n",
    "def subtract(num1, num2):\n",
    "    return num1 - num2\n",
    "\n",
    "def multiply(num1, num2):\n",
    "    return num1 * num2\n",
    "\n",
    "def divide(num1, num2):\n",
    "    return num1 / num2\n",
    "\n",
    "print(\"Please Select An Operation -\\n\"\n",
    "      \"1. Add\\n\"\n",
    "      \"2. Subtract\\n\"\n",
    "      \"3. Multiply\\n\"\n",
    "      \"4. Divide\\n\")\n",
    "\n",
    "choice = input(\"Enter Choice: \")\n",
    "\n",
    "num1 = float(input(\"Enter First Number: \"))\n",
    "num2 = float(input(\"Enter Second Number: \"))\n",
    "\n",
    "if choice == '1':\n",
    "    print(num1, \"+\", num2, \"=\", add(num1, num2))\n",
    "\n",
    "elif choice == '2':\n",
    "    print(num1, \"-\", num2, \"=\", subtract(num1, num2))\n",
    "\n",
    "elif choice == '3':\n",
    "    print(num1, \"*\", num2, \"=\", multiply(num1, num2))\n",
    "\n",
    "elif choice == '4':\n",
    "    print(num1, \"/\", num2, \"=\", divide(num1, num2))\n",
    "\n",
    "else:\n",
    "    print(\"Invalid input\")\n"
   ]
  },
  {
   "cell_type": "code",
   "execution_count": null,
   "id": "45c80ab2",
   "metadata": {},
   "outputs": [],
   "source": []
  }
 ],
 "metadata": {
  "kernelspec": {
   "display_name": "Python 3 (ipykernel)",
   "language": "python",
   "name": "python3"
  },
  "language_info": {
   "codemirror_mode": {
    "name": "ipython",
    "version": 3
   },
   "file_extension": ".py",
   "mimetype": "text/x-python",
   "name": "python",
   "nbconvert_exporter": "python",
   "pygments_lexer": "ipython3",
   "version": "3.9.13"
  }
 },
 "nbformat": 4,
 "nbformat_minor": 5
}
